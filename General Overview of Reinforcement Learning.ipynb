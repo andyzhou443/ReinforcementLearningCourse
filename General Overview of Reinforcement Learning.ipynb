{
 "cells": [
  {
   "cell_type": "markdown",
   "id": "8c4d2167",
   "metadata": {},
   "source": [
    "## Reinforcement Learning in a Nutshell ##\n",
    "\n",
    "__Reinforcement Learning__ - focuses on teaching agents through trial and error\n",
    "\n"
   ]
  },
  {
   "cell_type": "markdown",
   "id": "05271415",
   "metadata": {},
   "source": [
    "## 4 Key Concepts: ##\n",
    "\n",
    "__Agent__: actor operating in environment, usually governed by policy (rule that decides what action to take)\n",
    "\n",
    "__Environment__: the world in which the agent can operate in\n",
    "\n",
    "__Action__: The agent can do something within the environment\n",
    "    \n",
    "__Reward and Observation__: in return the agent recieves a reward and a view of what the environment looks like after acting on it\n",
    "\n",
    "\n",
    "    \n"
   ]
  },
  {
   "cell_type": "markdown",
   "id": "8413eed2",
   "metadata": {},
   "source": [
    "## Application of Reinforcement Learning: ##\n",
    "\n",
    "- Autonomous Driving\n",
    "- Securities Trading\n",
    "- Search\n",
    "- Simulated Training of Robot "
   ]
  },
  {
   "cell_type": "markdown",
   "id": "96746103",
   "metadata": {},
   "source": [
    "## Limitation and Consideration ##\n",
    "- For simple problems, reinforcement learning is overkill\n",
    "- Assume environment is Markovian (future states of environment is based on current obseratio aka doesnt consider random cases)\n",
    "- Training takes long and is not always stable\n",
    "    - Usually first explore then exploit fore best reward. However, sometimes model explores and exploit early so we need to tune hyperparameters\n",
    "    - We may reach a cap for reward depending on parameter\n",
    "    - Training can take long if environment is long. Makes exploring too long"
   ]
  },
  {
   "cell_type": "code",
   "execution_count": null,
   "id": "b5d817ad",
   "metadata": {},
   "outputs": [],
   "source": [
    "0"
   ]
  }
 ],
 "metadata": {
  "kernelspec": {
   "display_name": "Python 3 (ipykernel)",
   "language": "python",
   "name": "python3"
  },
  "language_info": {
   "codemirror_mode": {
    "name": "ipython",
    "version": 3
   },
   "file_extension": ".py",
   "mimetype": "text/x-python",
   "name": "python",
   "nbconvert_exporter": "python",
   "pygments_lexer": "ipython3",
   "version": "3.9.13"
  }
 },
 "nbformat": 4,
 "nbformat_minor": 5
}
